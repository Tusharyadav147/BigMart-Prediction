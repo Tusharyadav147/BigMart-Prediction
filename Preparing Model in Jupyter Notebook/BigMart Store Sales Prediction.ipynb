{
 "cells": [
  {
   "cell_type": "markdown",
   "metadata": {},
   "source": [
    "# Import Libraries"
   ]
  },
  {
   "cell_type": "code",
   "execution_count": 208,
   "metadata": {},
   "outputs": [],
   "source": [
    "import pandas as pd\n",
    "import matplotlib.pyplot as plt\n",
    "import pickle\n",
    "from pandas_profiling import ProfileReport\n",
    "import numpy as np\n",
    "from sklearn.preprocessing import LabelEncoder , StandardScaler\n",
    "import xgboost as xgb\n",
    "from sklearn.model_selection import train_test_split,GridSearchCV\n",
    "from sklearn.model_selection import RandomizedSearchCV\n",
    "from sklearn.metrics import mean_absolute_error,mean_squared_error,r2_score\n",
    "from sklearn. ensemble import GradientBoostingRegressor,RandomForestRegressor"
   ]
  },
  {
   "cell_type": "markdown",
   "metadata": {},
   "source": [
    "# Loading Data"
   ]
  },
  {
   "cell_type": "code",
   "execution_count": 209,
   "metadata": {},
   "outputs": [],
   "source": [
    "df = pd.read_csv('Train.csv')"
   ]
  },
  {
   "cell_type": "code",
   "execution_count": 210,
   "metadata": {},
   "outputs": [
    {
     "data": {
      "text/html": [
       "<div>\n",
       "<style scoped>\n",
       "    .dataframe tbody tr th:only-of-type {\n",
       "        vertical-align: middle;\n",
       "    }\n",
       "\n",
       "    .dataframe tbody tr th {\n",
       "        vertical-align: top;\n",
       "    }\n",
       "\n",
       "    .dataframe thead th {\n",
       "        text-align: right;\n",
       "    }\n",
       "</style>\n",
       "<table border=\"1\" class=\"dataframe\">\n",
       "  <thead>\n",
       "    <tr style=\"text-align: right;\">\n",
       "      <th></th>\n",
       "      <th>Item_Identifier</th>\n",
       "      <th>Item_Weight</th>\n",
       "      <th>Item_Fat_Content</th>\n",
       "      <th>Item_Visibility</th>\n",
       "      <th>Item_Type</th>\n",
       "      <th>Item_MRP</th>\n",
       "      <th>Outlet_Identifier</th>\n",
       "      <th>Outlet_Establishment_Year</th>\n",
       "      <th>Outlet_Size</th>\n",
       "      <th>Outlet_Location_Type</th>\n",
       "      <th>Outlet_Type</th>\n",
       "      <th>Item_Outlet_Sales</th>\n",
       "    </tr>\n",
       "  </thead>\n",
       "  <tbody>\n",
       "    <tr>\n",
       "      <th>0</th>\n",
       "      <td>FDA15</td>\n",
       "      <td>9.30</td>\n",
       "      <td>Low Fat</td>\n",
       "      <td>0.016047</td>\n",
       "      <td>Dairy</td>\n",
       "      <td>249.8092</td>\n",
       "      <td>OUT049</td>\n",
       "      <td>1999</td>\n",
       "      <td>Medium</td>\n",
       "      <td>Tier 1</td>\n",
       "      <td>Supermarket Type1</td>\n",
       "      <td>4235.4750</td>\n",
       "    </tr>\n",
       "    <tr>\n",
       "      <th>1</th>\n",
       "      <td>DRC01</td>\n",
       "      <td>5.92</td>\n",
       "      <td>Regular</td>\n",
       "      <td>0.019278</td>\n",
       "      <td>Soft Drinks</td>\n",
       "      <td>48.2692</td>\n",
       "      <td>OUT018</td>\n",
       "      <td>2009</td>\n",
       "      <td>Medium</td>\n",
       "      <td>Tier 3</td>\n",
       "      <td>Supermarket Type2</td>\n",
       "      <td>604.4969</td>\n",
       "    </tr>\n",
       "    <tr>\n",
       "      <th>2</th>\n",
       "      <td>FDN15</td>\n",
       "      <td>17.50</td>\n",
       "      <td>Low Fat</td>\n",
       "      <td>0.016760</td>\n",
       "      <td>Meat</td>\n",
       "      <td>141.6180</td>\n",
       "      <td>OUT049</td>\n",
       "      <td>1999</td>\n",
       "      <td>Medium</td>\n",
       "      <td>Tier 1</td>\n",
       "      <td>Supermarket Type1</td>\n",
       "      <td>2358.5261</td>\n",
       "    </tr>\n",
       "    <tr>\n",
       "      <th>3</th>\n",
       "      <td>FDX07</td>\n",
       "      <td>19.20</td>\n",
       "      <td>Regular</td>\n",
       "      <td>0.000000</td>\n",
       "      <td>Fruits and Vegetables</td>\n",
       "      <td>182.0950</td>\n",
       "      <td>OUT010</td>\n",
       "      <td>1998</td>\n",
       "      <td>NaN</td>\n",
       "      <td>Tier 3</td>\n",
       "      <td>Grocery Store</td>\n",
       "      <td>811.6203</td>\n",
       "    </tr>\n",
       "    <tr>\n",
       "      <th>4</th>\n",
       "      <td>NCD19</td>\n",
       "      <td>8.93</td>\n",
       "      <td>Low Fat</td>\n",
       "      <td>0.000000</td>\n",
       "      <td>Household</td>\n",
       "      <td>53.8614</td>\n",
       "      <td>OUT013</td>\n",
       "      <td>1987</td>\n",
       "      <td>High</td>\n",
       "      <td>Tier 3</td>\n",
       "      <td>Supermarket Type1</td>\n",
       "      <td>736.0226</td>\n",
       "    </tr>\n",
       "  </tbody>\n",
       "</table>\n",
       "</div>"
      ],
      "text/plain": [
       "  Item_Identifier  Item_Weight Item_Fat_Content  Item_Visibility  \\\n",
       "0           FDA15         9.30          Low Fat         0.016047   \n",
       "1           DRC01         5.92          Regular         0.019278   \n",
       "2           FDN15        17.50          Low Fat         0.016760   \n",
       "3           FDX07        19.20          Regular         0.000000   \n",
       "4           NCD19         8.93          Low Fat         0.000000   \n",
       "\n",
       "               Item_Type  Item_MRP Outlet_Identifier  \\\n",
       "0                  Dairy  249.8092            OUT049   \n",
       "1            Soft Drinks   48.2692            OUT018   \n",
       "2                   Meat  141.6180            OUT049   \n",
       "3  Fruits and Vegetables  182.0950            OUT010   \n",
       "4              Household   53.8614            OUT013   \n",
       "\n",
       "   Outlet_Establishment_Year Outlet_Size Outlet_Location_Type  \\\n",
       "0                       1999      Medium               Tier 1   \n",
       "1                       2009      Medium               Tier 3   \n",
       "2                       1999      Medium               Tier 1   \n",
       "3                       1998         NaN               Tier 3   \n",
       "4                       1987        High               Tier 3   \n",
       "\n",
       "         Outlet_Type  Item_Outlet_Sales  \n",
       "0  Supermarket Type1          4235.4750  \n",
       "1  Supermarket Type2           604.4969  \n",
       "2  Supermarket Type1          2358.5261  \n",
       "3      Grocery Store           811.6203  \n",
       "4  Supermarket Type1           736.0226  "
      ]
     },
     "execution_count": 210,
     "metadata": {},
     "output_type": "execute_result"
    }
   ],
   "source": [
    "df.head()"
   ]
  },
  {
   "cell_type": "code",
   "execution_count": 211,
   "metadata": {},
   "outputs": [
    {
     "data": {
      "text/html": [
       "<div>\n",
       "<style scoped>\n",
       "    .dataframe tbody tr th:only-of-type {\n",
       "        vertical-align: middle;\n",
       "    }\n",
       "\n",
       "    .dataframe tbody tr th {\n",
       "        vertical-align: top;\n",
       "    }\n",
       "\n",
       "    .dataframe thead th {\n",
       "        text-align: right;\n",
       "    }\n",
       "</style>\n",
       "<table border=\"1\" class=\"dataframe\">\n",
       "  <thead>\n",
       "    <tr style=\"text-align: right;\">\n",
       "      <th></th>\n",
       "      <th>Item_Weight</th>\n",
       "      <th>Item_Visibility</th>\n",
       "      <th>Item_MRP</th>\n",
       "      <th>Outlet_Establishment_Year</th>\n",
       "      <th>Item_Outlet_Sales</th>\n",
       "    </tr>\n",
       "  </thead>\n",
       "  <tbody>\n",
       "    <tr>\n",
       "      <th>count</th>\n",
       "      <td>7060.000000</td>\n",
       "      <td>8523.000000</td>\n",
       "      <td>8523.000000</td>\n",
       "      <td>8523.000000</td>\n",
       "      <td>8523.000000</td>\n",
       "    </tr>\n",
       "    <tr>\n",
       "      <th>mean</th>\n",
       "      <td>12.857645</td>\n",
       "      <td>0.066132</td>\n",
       "      <td>140.992782</td>\n",
       "      <td>1997.831867</td>\n",
       "      <td>2181.250109</td>\n",
       "    </tr>\n",
       "    <tr>\n",
       "      <th>std</th>\n",
       "      <td>4.643456</td>\n",
       "      <td>0.051598</td>\n",
       "      <td>62.275067</td>\n",
       "      <td>8.371760</td>\n",
       "      <td>1485.314935</td>\n",
       "    </tr>\n",
       "    <tr>\n",
       "      <th>min</th>\n",
       "      <td>4.555000</td>\n",
       "      <td>0.000000</td>\n",
       "      <td>31.290000</td>\n",
       "      <td>1985.000000</td>\n",
       "      <td>-70.343796</td>\n",
       "    </tr>\n",
       "    <tr>\n",
       "      <th>25%</th>\n",
       "      <td>8.773750</td>\n",
       "      <td>0.026989</td>\n",
       "      <td>93.826500</td>\n",
       "      <td>1987.000000</td>\n",
       "      <td>1020.596825</td>\n",
       "    </tr>\n",
       "    <tr>\n",
       "      <th>50%</th>\n",
       "      <td>12.600000</td>\n",
       "      <td>0.053931</td>\n",
       "      <td>143.012800</td>\n",
       "      <td>1999.000000</td>\n",
       "      <td>1973.155200</td>\n",
       "    </tr>\n",
       "    <tr>\n",
       "      <th>75%</th>\n",
       "      <td>16.850000</td>\n",
       "      <td>0.094585</td>\n",
       "      <td>185.643700</td>\n",
       "      <td>2004.000000</td>\n",
       "      <td>2995.172000</td>\n",
       "    </tr>\n",
       "    <tr>\n",
       "      <th>max</th>\n",
       "      <td>21.350000</td>\n",
       "      <td>0.328391</td>\n",
       "      <td>266.888400</td>\n",
       "      <td>2009.000000</td>\n",
       "      <td>11394.745000</td>\n",
       "    </tr>\n",
       "  </tbody>\n",
       "</table>\n",
       "</div>"
      ],
      "text/plain": [
       "       Item_Weight  Item_Visibility     Item_MRP  Outlet_Establishment_Year  \\\n",
       "count  7060.000000      8523.000000  8523.000000                8523.000000   \n",
       "mean     12.857645         0.066132   140.992782                1997.831867   \n",
       "std       4.643456         0.051598    62.275067                   8.371760   \n",
       "min       4.555000         0.000000    31.290000                1985.000000   \n",
       "25%       8.773750         0.026989    93.826500                1987.000000   \n",
       "50%      12.600000         0.053931   143.012800                1999.000000   \n",
       "75%      16.850000         0.094585   185.643700                2004.000000   \n",
       "max      21.350000         0.328391   266.888400                2009.000000   \n",
       "\n",
       "       Item_Outlet_Sales  \n",
       "count        8523.000000  \n",
       "mean         2181.250109  \n",
       "std          1485.314935  \n",
       "min           -70.343796  \n",
       "25%          1020.596825  \n",
       "50%          1973.155200  \n",
       "75%          2995.172000  \n",
       "max         11394.745000  "
      ]
     },
     "execution_count": 211,
     "metadata": {},
     "output_type": "execute_result"
    }
   ],
   "source": [
    "df.describe()"
   ]
  },
  {
   "cell_type": "code",
   "execution_count": 212,
   "metadata": {},
   "outputs": [
    {
     "data": {
      "text/plain": [
       "(8523, 12)"
      ]
     },
     "execution_count": 212,
     "metadata": {},
     "output_type": "execute_result"
    }
   ],
   "source": [
    "df.shape"
   ]
  },
  {
   "cell_type": "code",
   "execution_count": 213,
   "metadata": {},
   "outputs": [],
   "source": [
    "#ProfileReport(df)"
   ]
  },
  {
   "cell_type": "markdown",
   "metadata": {},
   "source": [
    "# Drop Columns"
   ]
  },
  {
   "cell_type": "code",
   "execution_count": 214,
   "metadata": {},
   "outputs": [],
   "source": [
    "df.drop(columns = ['Item_Identifier'],inplace=True)"
   ]
  },
  {
   "cell_type": "code",
   "execution_count": 215,
   "metadata": {},
   "outputs": [
    {
     "data": {
      "text/html": [
       "<div>\n",
       "<style scoped>\n",
       "    .dataframe tbody tr th:only-of-type {\n",
       "        vertical-align: middle;\n",
       "    }\n",
       "\n",
       "    .dataframe tbody tr th {\n",
       "        vertical-align: top;\n",
       "    }\n",
       "\n",
       "    .dataframe thead th {\n",
       "        text-align: right;\n",
       "    }\n",
       "</style>\n",
       "<table border=\"1\" class=\"dataframe\">\n",
       "  <thead>\n",
       "    <tr style=\"text-align: right;\">\n",
       "      <th></th>\n",
       "      <th>Item_Weight</th>\n",
       "      <th>Item_Fat_Content</th>\n",
       "      <th>Item_Visibility</th>\n",
       "      <th>Item_Type</th>\n",
       "      <th>Item_MRP</th>\n",
       "      <th>Outlet_Identifier</th>\n",
       "      <th>Outlet_Establishment_Year</th>\n",
       "      <th>Outlet_Size</th>\n",
       "      <th>Outlet_Location_Type</th>\n",
       "      <th>Outlet_Type</th>\n",
       "      <th>Item_Outlet_Sales</th>\n",
       "    </tr>\n",
       "  </thead>\n",
       "  <tbody>\n",
       "    <tr>\n",
       "      <th>0</th>\n",
       "      <td>9.30</td>\n",
       "      <td>Low Fat</td>\n",
       "      <td>0.016047</td>\n",
       "      <td>Dairy</td>\n",
       "      <td>249.8092</td>\n",
       "      <td>OUT049</td>\n",
       "      <td>1999</td>\n",
       "      <td>Medium</td>\n",
       "      <td>Tier 1</td>\n",
       "      <td>Supermarket Type1</td>\n",
       "      <td>4235.4750</td>\n",
       "    </tr>\n",
       "    <tr>\n",
       "      <th>1</th>\n",
       "      <td>5.92</td>\n",
       "      <td>Regular</td>\n",
       "      <td>0.019278</td>\n",
       "      <td>Soft Drinks</td>\n",
       "      <td>48.2692</td>\n",
       "      <td>OUT018</td>\n",
       "      <td>2009</td>\n",
       "      <td>Medium</td>\n",
       "      <td>Tier 3</td>\n",
       "      <td>Supermarket Type2</td>\n",
       "      <td>604.4969</td>\n",
       "    </tr>\n",
       "    <tr>\n",
       "      <th>2</th>\n",
       "      <td>17.50</td>\n",
       "      <td>Low Fat</td>\n",
       "      <td>0.016760</td>\n",
       "      <td>Meat</td>\n",
       "      <td>141.6180</td>\n",
       "      <td>OUT049</td>\n",
       "      <td>1999</td>\n",
       "      <td>Medium</td>\n",
       "      <td>Tier 1</td>\n",
       "      <td>Supermarket Type1</td>\n",
       "      <td>2358.5261</td>\n",
       "    </tr>\n",
       "    <tr>\n",
       "      <th>3</th>\n",
       "      <td>19.20</td>\n",
       "      <td>Regular</td>\n",
       "      <td>0.000000</td>\n",
       "      <td>Fruits and Vegetables</td>\n",
       "      <td>182.0950</td>\n",
       "      <td>OUT010</td>\n",
       "      <td>1998</td>\n",
       "      <td>NaN</td>\n",
       "      <td>Tier 3</td>\n",
       "      <td>Grocery Store</td>\n",
       "      <td>811.6203</td>\n",
       "    </tr>\n",
       "    <tr>\n",
       "      <th>4</th>\n",
       "      <td>8.93</td>\n",
       "      <td>Low Fat</td>\n",
       "      <td>0.000000</td>\n",
       "      <td>Household</td>\n",
       "      <td>53.8614</td>\n",
       "      <td>OUT013</td>\n",
       "      <td>1987</td>\n",
       "      <td>High</td>\n",
       "      <td>Tier 3</td>\n",
       "      <td>Supermarket Type1</td>\n",
       "      <td>736.0226</td>\n",
       "    </tr>\n",
       "  </tbody>\n",
       "</table>\n",
       "</div>"
      ],
      "text/plain": [
       "   Item_Weight Item_Fat_Content  Item_Visibility              Item_Type  \\\n",
       "0         9.30          Low Fat         0.016047                  Dairy   \n",
       "1         5.92          Regular         0.019278            Soft Drinks   \n",
       "2        17.50          Low Fat         0.016760                   Meat   \n",
       "3        19.20          Regular         0.000000  Fruits and Vegetables   \n",
       "4         8.93          Low Fat         0.000000              Household   \n",
       "\n",
       "   Item_MRP Outlet_Identifier  Outlet_Establishment_Year Outlet_Size  \\\n",
       "0  249.8092            OUT049                       1999      Medium   \n",
       "1   48.2692            OUT018                       2009      Medium   \n",
       "2  141.6180            OUT049                       1999      Medium   \n",
       "3  182.0950            OUT010                       1998         NaN   \n",
       "4   53.8614            OUT013                       1987        High   \n",
       "\n",
       "  Outlet_Location_Type        Outlet_Type  Item_Outlet_Sales  \n",
       "0               Tier 1  Supermarket Type1          4235.4750  \n",
       "1               Tier 3  Supermarket Type2           604.4969  \n",
       "2               Tier 1  Supermarket Type1          2358.5261  \n",
       "3               Tier 3      Grocery Store           811.6203  \n",
       "4               Tier 3  Supermarket Type1           736.0226  "
      ]
     },
     "execution_count": 215,
     "metadata": {},
     "output_type": "execute_result"
    }
   ],
   "source": [
    "df.head()"
   ]
  },
  {
   "cell_type": "markdown",
   "metadata": {},
   "source": [
    "# Fill Null Values"
   ]
  },
  {
   "cell_type": "code",
   "execution_count": 216,
   "metadata": {},
   "outputs": [],
   "source": [
    "df['Item_Weight'] = df['Item_Weight'].fillna(df['Item_Weight'].mean())"
   ]
  },
  {
   "cell_type": "code",
   "execution_count": 217,
   "metadata": {},
   "outputs": [
    {
     "data": {
      "text/plain": [
       "array(['Medium', nan, 'High', 'Small'], dtype=object)"
      ]
     },
     "execution_count": 217,
     "metadata": {},
     "output_type": "execute_result"
    }
   ],
   "source": [
    "df['Outlet_Size'].unique()"
   ]
  },
  {
   "cell_type": "code",
   "execution_count": 218,
   "metadata": {},
   "outputs": [],
   "source": [
    "df = df.fillna({'Outlet_Size':'Medium'})"
   ]
  },
  {
   "cell_type": "markdown",
   "metadata": {},
   "source": [
    "# Replace Values"
   ]
  },
  {
   "cell_type": "code",
   "execution_count": 219,
   "metadata": {},
   "outputs": [],
   "source": [
    "df = df.replace({'Item_Fat_Content' : {'low fat':'Low Fat' ,'LF' : 'Low Fat' ,'reg':'Regular'}})"
   ]
  },
  {
   "cell_type": "markdown",
   "metadata": {},
   "source": [
    "# Label Encoding"
   ]
  },
  {
   "cell_type": "code",
   "execution_count": 220,
   "metadata": {},
   "outputs": [],
   "source": [
    "lb = LabelEncoder()"
   ]
  },
  {
   "cell_type": "code",
   "execution_count": 221,
   "metadata": {},
   "outputs": [
    {
     "data": {
      "text/html": [
       "<div>\n",
       "<style scoped>\n",
       "    .dataframe tbody tr th:only-of-type {\n",
       "        vertical-align: middle;\n",
       "    }\n",
       "\n",
       "    .dataframe tbody tr th {\n",
       "        vertical-align: top;\n",
       "    }\n",
       "\n",
       "    .dataframe thead th {\n",
       "        text-align: right;\n",
       "    }\n",
       "</style>\n",
       "<table border=\"1\" class=\"dataframe\">\n",
       "  <thead>\n",
       "    <tr style=\"text-align: right;\">\n",
       "      <th></th>\n",
       "      <th>outlet_size</th>\n",
       "      <th>outlet_size_num</th>\n",
       "    </tr>\n",
       "  </thead>\n",
       "  <tbody>\n",
       "    <tr>\n",
       "      <th>0</th>\n",
       "      <td>Medium</td>\n",
       "      <td>1</td>\n",
       "    </tr>\n",
       "    <tr>\n",
       "      <th>1</th>\n",
       "      <td>High</td>\n",
       "      <td>0</td>\n",
       "    </tr>\n",
       "    <tr>\n",
       "      <th>2</th>\n",
       "      <td>Small</td>\n",
       "      <td>2</td>\n",
       "    </tr>\n",
       "  </tbody>\n",
       "</table>\n",
       "</div>"
      ],
      "text/plain": [
       "  outlet_size  outlet_size_num\n",
       "0      Medium                1\n",
       "1        High                0\n",
       "2       Small                2"
      ]
     },
     "execution_count": 221,
     "metadata": {},
     "output_type": "execute_result"
    }
   ],
   "source": [
    "outlet_size = df['Outlet_Size'].unique()\n",
    "df['Outlet_Size'] = lb.fit_transform(df['Outlet_Size'])\n",
    "outlet_size_num = df.Outlet_Size.unique()\n",
    "outlet_size_df = pd.DataFrame(data = {'outlet_size': outlet_size ,'outlet_size_num':outlet_size_num})\n",
    "outlet_size_df"
   ]
  },
  {
   "cell_type": "code",
   "execution_count": 222,
   "metadata": {},
   "outputs": [
    {
     "data": {
      "text/html": [
       "<div>\n",
       "<style scoped>\n",
       "    .dataframe tbody tr th:only-of-type {\n",
       "        vertical-align: middle;\n",
       "    }\n",
       "\n",
       "    .dataframe tbody tr th {\n",
       "        vertical-align: top;\n",
       "    }\n",
       "\n",
       "    .dataframe thead th {\n",
       "        text-align: right;\n",
       "    }\n",
       "</style>\n",
       "<table border=\"1\" class=\"dataframe\">\n",
       "  <thead>\n",
       "    <tr style=\"text-align: right;\">\n",
       "      <th></th>\n",
       "      <th>item_fat</th>\n",
       "      <th>item_fat_num</th>\n",
       "    </tr>\n",
       "  </thead>\n",
       "  <tbody>\n",
       "    <tr>\n",
       "      <th>0</th>\n",
       "      <td>Low Fat</td>\n",
       "      <td>0</td>\n",
       "    </tr>\n",
       "    <tr>\n",
       "      <th>1</th>\n",
       "      <td>Regular</td>\n",
       "      <td>1</td>\n",
       "    </tr>\n",
       "  </tbody>\n",
       "</table>\n",
       "</div>"
      ],
      "text/plain": [
       "  item_fat  item_fat_num\n",
       "0  Low Fat             0\n",
       "1  Regular             1"
      ]
     },
     "execution_count": 222,
     "metadata": {},
     "output_type": "execute_result"
    }
   ],
   "source": [
    "item_fat = df.Item_Fat_Content.unique()\n",
    "df['Item_Fat_Content'] = lb.fit_transform(df['Item_Fat_Content'])\n",
    "item_fat_num = df.Item_Fat_Content.unique()\n",
    "item_fat_df = pd.DataFrame(data = {'item_fat': item_fat ,'item_fat_num':item_fat_num})\n",
    "item_fat_df"
   ]
  },
  {
   "cell_type": "code",
   "execution_count": 223,
   "metadata": {},
   "outputs": [
    {
     "data": {
      "text/html": [
       "<div>\n",
       "<style scoped>\n",
       "    .dataframe tbody tr th:only-of-type {\n",
       "        vertical-align: middle;\n",
       "    }\n",
       "\n",
       "    .dataframe tbody tr th {\n",
       "        vertical-align: top;\n",
       "    }\n",
       "\n",
       "    .dataframe thead th {\n",
       "        text-align: right;\n",
       "    }\n",
       "</style>\n",
       "<table border=\"1\" class=\"dataframe\">\n",
       "  <thead>\n",
       "    <tr style=\"text-align: right;\">\n",
       "      <th></th>\n",
       "      <th>Outlet_Location</th>\n",
       "      <th>Outlet_Location_num</th>\n",
       "    </tr>\n",
       "  </thead>\n",
       "  <tbody>\n",
       "    <tr>\n",
       "      <th>0</th>\n",
       "      <td>Tier 1</td>\n",
       "      <td>0</td>\n",
       "    </tr>\n",
       "    <tr>\n",
       "      <th>1</th>\n",
       "      <td>Tier 3</td>\n",
       "      <td>2</td>\n",
       "    </tr>\n",
       "    <tr>\n",
       "      <th>2</th>\n",
       "      <td>Tier 2</td>\n",
       "      <td>1</td>\n",
       "    </tr>\n",
       "  </tbody>\n",
       "</table>\n",
       "</div>"
      ],
      "text/plain": [
       "  Outlet_Location  Outlet_Location_num\n",
       "0          Tier 1                    0\n",
       "1          Tier 3                    2\n",
       "2          Tier 2                    1"
      ]
     },
     "execution_count": 223,
     "metadata": {},
     "output_type": "execute_result"
    }
   ],
   "source": [
    "Outlet_Location = df['Outlet_Location_Type'].unique()\n",
    "df['Outlet_Location_Type'] = lb.fit_transform(df['Outlet_Location_Type'])\n",
    "Outlet_Location_num = df['Outlet_Location_Type'].unique()\n",
    "Outlet_Location_df = pd.DataFrame(data = {'Outlet_Location': Outlet_Location ,'Outlet_Location_num':Outlet_Location_num})\n",
    "Outlet_Location_df"
   ]
  },
  {
   "cell_type": "code",
   "execution_count": 224,
   "metadata": {},
   "outputs": [
    {
     "data": {
      "text/html": [
       "<div>\n",
       "<style scoped>\n",
       "    .dataframe tbody tr th:only-of-type {\n",
       "        vertical-align: middle;\n",
       "    }\n",
       "\n",
       "    .dataframe tbody tr th {\n",
       "        vertical-align: top;\n",
       "    }\n",
       "\n",
       "    .dataframe thead th {\n",
       "        text-align: right;\n",
       "    }\n",
       "</style>\n",
       "<table border=\"1\" class=\"dataframe\">\n",
       "  <thead>\n",
       "    <tr style=\"text-align: right;\">\n",
       "      <th></th>\n",
       "      <th>Outlet_Type</th>\n",
       "      <th>Outlet_Type_num</th>\n",
       "    </tr>\n",
       "  </thead>\n",
       "  <tbody>\n",
       "    <tr>\n",
       "      <th>0</th>\n",
       "      <td>Supermarket Type1</td>\n",
       "      <td>1</td>\n",
       "    </tr>\n",
       "    <tr>\n",
       "      <th>1</th>\n",
       "      <td>Supermarket Type2</td>\n",
       "      <td>2</td>\n",
       "    </tr>\n",
       "    <tr>\n",
       "      <th>2</th>\n",
       "      <td>Grocery Store</td>\n",
       "      <td>0</td>\n",
       "    </tr>\n",
       "    <tr>\n",
       "      <th>3</th>\n",
       "      <td>Supermarket Type3</td>\n",
       "      <td>3</td>\n",
       "    </tr>\n",
       "  </tbody>\n",
       "</table>\n",
       "</div>"
      ],
      "text/plain": [
       "         Outlet_Type  Outlet_Type_num\n",
       "0  Supermarket Type1                1\n",
       "1  Supermarket Type2                2\n",
       "2      Grocery Store                0\n",
       "3  Supermarket Type3                3"
      ]
     },
     "execution_count": 224,
     "metadata": {},
     "output_type": "execute_result"
    }
   ],
   "source": [
    "Outlet_Type = df['Outlet_Type'].unique()\n",
    "df['Outlet_Type'] = lb.fit_transform(df['Outlet_Type'])\n",
    "Outlet_Type_num = df['Outlet_Type'].unique()\n",
    "Outlet_Type_df = pd.DataFrame(data = {'Outlet_Type': Outlet_Type ,'Outlet_Type_num':Outlet_Type_num})\n",
    "Outlet_Type_df"
   ]
  },
  {
   "cell_type": "code",
   "execution_count": 225,
   "metadata": {},
   "outputs": [
    {
     "data": {
      "text/html": [
       "<div>\n",
       "<style scoped>\n",
       "    .dataframe tbody tr th:only-of-type {\n",
       "        vertical-align: middle;\n",
       "    }\n",
       "\n",
       "    .dataframe tbody tr th {\n",
       "        vertical-align: top;\n",
       "    }\n",
       "\n",
       "    .dataframe thead th {\n",
       "        text-align: right;\n",
       "    }\n",
       "</style>\n",
       "<table border=\"1\" class=\"dataframe\">\n",
       "  <thead>\n",
       "    <tr style=\"text-align: right;\">\n",
       "      <th></th>\n",
       "      <th>Item_Type</th>\n",
       "      <th>Item_Type_num</th>\n",
       "    </tr>\n",
       "  </thead>\n",
       "  <tbody>\n",
       "    <tr>\n",
       "      <th>0</th>\n",
       "      <td>Dairy</td>\n",
       "      <td>4</td>\n",
       "    </tr>\n",
       "    <tr>\n",
       "      <th>1</th>\n",
       "      <td>Soft Drinks</td>\n",
       "      <td>14</td>\n",
       "    </tr>\n",
       "    <tr>\n",
       "      <th>2</th>\n",
       "      <td>Meat</td>\n",
       "      <td>10</td>\n",
       "    </tr>\n",
       "    <tr>\n",
       "      <th>3</th>\n",
       "      <td>Fruits and Vegetables</td>\n",
       "      <td>6</td>\n",
       "    </tr>\n",
       "    <tr>\n",
       "      <th>4</th>\n",
       "      <td>Household</td>\n",
       "      <td>9</td>\n",
       "    </tr>\n",
       "    <tr>\n",
       "      <th>5</th>\n",
       "      <td>Baking Goods</td>\n",
       "      <td>0</td>\n",
       "    </tr>\n",
       "    <tr>\n",
       "      <th>6</th>\n",
       "      <td>Snack Foods</td>\n",
       "      <td>13</td>\n",
       "    </tr>\n",
       "    <tr>\n",
       "      <th>7</th>\n",
       "      <td>Frozen Foods</td>\n",
       "      <td>5</td>\n",
       "    </tr>\n",
       "    <tr>\n",
       "      <th>8</th>\n",
       "      <td>Breakfast</td>\n",
       "      <td>2</td>\n",
       "    </tr>\n",
       "    <tr>\n",
       "      <th>9</th>\n",
       "      <td>Health and Hygiene</td>\n",
       "      <td>8</td>\n",
       "    </tr>\n",
       "    <tr>\n",
       "      <th>10</th>\n",
       "      <td>Hard Drinks</td>\n",
       "      <td>7</td>\n",
       "    </tr>\n",
       "    <tr>\n",
       "      <th>11</th>\n",
       "      <td>Canned</td>\n",
       "      <td>3</td>\n",
       "    </tr>\n",
       "    <tr>\n",
       "      <th>12</th>\n",
       "      <td>Breads</td>\n",
       "      <td>1</td>\n",
       "    </tr>\n",
       "    <tr>\n",
       "      <th>13</th>\n",
       "      <td>Starchy Foods</td>\n",
       "      <td>15</td>\n",
       "    </tr>\n",
       "    <tr>\n",
       "      <th>14</th>\n",
       "      <td>Others</td>\n",
       "      <td>11</td>\n",
       "    </tr>\n",
       "    <tr>\n",
       "      <th>15</th>\n",
       "      <td>Seafood</td>\n",
       "      <td>12</td>\n",
       "    </tr>\n",
       "  </tbody>\n",
       "</table>\n",
       "</div>"
      ],
      "text/plain": [
       "                Item_Type  Item_Type_num\n",
       "0                   Dairy              4\n",
       "1             Soft Drinks             14\n",
       "2                    Meat             10\n",
       "3   Fruits and Vegetables              6\n",
       "4               Household              9\n",
       "5            Baking Goods              0\n",
       "6             Snack Foods             13\n",
       "7            Frozen Foods              5\n",
       "8               Breakfast              2\n",
       "9      Health and Hygiene              8\n",
       "10            Hard Drinks              7\n",
       "11                 Canned              3\n",
       "12                 Breads              1\n",
       "13          Starchy Foods             15\n",
       "14                 Others             11\n",
       "15                Seafood             12"
      ]
     },
     "execution_count": 225,
     "metadata": {},
     "output_type": "execute_result"
    }
   ],
   "source": [
    "Item_Type = df['Item_Type'].unique()\n",
    "df['Item_Type'] = lb.fit_transform(df['Item_Type'])\n",
    "Item_Type_num = df['Item_Type'].unique()\n",
    "Item_Type_df = pd.DataFrame(data = {'Item_Type': Item_Type ,'Item_Type_num':Item_Type_num})\n",
    "Item_Type_df"
   ]
  },
  {
   "cell_type": "code",
   "execution_count": 226,
   "metadata": {},
   "outputs": [
    {
     "data": {
      "text/html": [
       "<div>\n",
       "<style scoped>\n",
       "    .dataframe tbody tr th:only-of-type {\n",
       "        vertical-align: middle;\n",
       "    }\n",
       "\n",
       "    .dataframe tbody tr th {\n",
       "        vertical-align: top;\n",
       "    }\n",
       "\n",
       "    .dataframe thead th {\n",
       "        text-align: right;\n",
       "    }\n",
       "</style>\n",
       "<table border=\"1\" class=\"dataframe\">\n",
       "  <thead>\n",
       "    <tr style=\"text-align: right;\">\n",
       "      <th></th>\n",
       "      <th>Outlet_Identifier</th>\n",
       "      <th>Outlet_Identifier_num</th>\n",
       "    </tr>\n",
       "  </thead>\n",
       "  <tbody>\n",
       "    <tr>\n",
       "      <th>0</th>\n",
       "      <td>OUT049</td>\n",
       "      <td>9</td>\n",
       "    </tr>\n",
       "    <tr>\n",
       "      <th>1</th>\n",
       "      <td>OUT018</td>\n",
       "      <td>3</td>\n",
       "    </tr>\n",
       "    <tr>\n",
       "      <th>2</th>\n",
       "      <td>OUT010</td>\n",
       "      <td>0</td>\n",
       "    </tr>\n",
       "    <tr>\n",
       "      <th>3</th>\n",
       "      <td>OUT013</td>\n",
       "      <td>1</td>\n",
       "    </tr>\n",
       "    <tr>\n",
       "      <th>4</th>\n",
       "      <td>OUT027</td>\n",
       "      <td>5</td>\n",
       "    </tr>\n",
       "    <tr>\n",
       "      <th>5</th>\n",
       "      <td>OUT045</td>\n",
       "      <td>7</td>\n",
       "    </tr>\n",
       "    <tr>\n",
       "      <th>6</th>\n",
       "      <td>OUT017</td>\n",
       "      <td>2</td>\n",
       "    </tr>\n",
       "    <tr>\n",
       "      <th>7</th>\n",
       "      <td>OUT046</td>\n",
       "      <td>8</td>\n",
       "    </tr>\n",
       "    <tr>\n",
       "      <th>8</th>\n",
       "      <td>OUT035</td>\n",
       "      <td>6</td>\n",
       "    </tr>\n",
       "    <tr>\n",
       "      <th>9</th>\n",
       "      <td>OUT019</td>\n",
       "      <td>4</td>\n",
       "    </tr>\n",
       "  </tbody>\n",
       "</table>\n",
       "</div>"
      ],
      "text/plain": [
       "  Outlet_Identifier  Outlet_Identifier_num\n",
       "0            OUT049                      9\n",
       "1            OUT018                      3\n",
       "2            OUT010                      0\n",
       "3            OUT013                      1\n",
       "4            OUT027                      5\n",
       "5            OUT045                      7\n",
       "6            OUT017                      2\n",
       "7            OUT046                      8\n",
       "8            OUT035                      6\n",
       "9            OUT019                      4"
      ]
     },
     "execution_count": 226,
     "metadata": {},
     "output_type": "execute_result"
    }
   ],
   "source": [
    "Outlet_Identifier = df['Outlet_Identifier'].unique()\n",
    "df['Outlet_Identifier'] = lb.fit_transform(df['Outlet_Identifier'])\n",
    "Outlet_Identifier_num = df['Outlet_Identifier'].unique()\n",
    "Outlet_Identifier_df = pd.DataFrame(data = {'Outlet_Identifier': Outlet_Identifier ,'Outlet_Identifier_num':Outlet_Identifier_num})\n",
    "Outlet_Identifier_df"
   ]
  },
  {
   "cell_type": "code",
   "execution_count": 227,
   "metadata": {},
   "outputs": [
    {
     "data": {
      "text/plain": [
       "Item_Weight                  float64\n",
       "Item_Fat_Content               int32\n",
       "Item_Visibility              float64\n",
       "Item_Type                      int32\n",
       "Item_MRP                     float64\n",
       "Outlet_Identifier              int32\n",
       "Outlet_Establishment_Year      int64\n",
       "Outlet_Size                    int32\n",
       "Outlet_Location_Type           int32\n",
       "Outlet_Type                    int32\n",
       "Item_Outlet_Sales            float64\n",
       "dtype: object"
      ]
     },
     "execution_count": 227,
     "metadata": {},
     "output_type": "execute_result"
    }
   ],
   "source": [
    "df.dtypes"
   ]
  },
  {
   "cell_type": "code",
   "execution_count": 228,
   "metadata": {},
   "outputs": [],
   "source": [
    "x = df.drop(columns = 'Item_Outlet_Sales' )"
   ]
  },
  {
   "cell_type": "code",
   "execution_count": 229,
   "metadata": {},
   "outputs": [
    {
     "data": {
      "text/html": [
       "<div>\n",
       "<style scoped>\n",
       "    .dataframe tbody tr th:only-of-type {\n",
       "        vertical-align: middle;\n",
       "    }\n",
       "\n",
       "    .dataframe tbody tr th {\n",
       "        vertical-align: top;\n",
       "    }\n",
       "\n",
       "    .dataframe thead th {\n",
       "        text-align: right;\n",
       "    }\n",
       "</style>\n",
       "<table border=\"1\" class=\"dataframe\">\n",
       "  <thead>\n",
       "    <tr style=\"text-align: right;\">\n",
       "      <th></th>\n",
       "      <th>Item_Weight</th>\n",
       "      <th>Item_Fat_Content</th>\n",
       "      <th>Item_Visibility</th>\n",
       "      <th>Item_Type</th>\n",
       "      <th>Item_MRP</th>\n",
       "      <th>Outlet_Identifier</th>\n",
       "      <th>Outlet_Establishment_Year</th>\n",
       "      <th>Outlet_Size</th>\n",
       "      <th>Outlet_Location_Type</th>\n",
       "      <th>Outlet_Type</th>\n",
       "    </tr>\n",
       "  </thead>\n",
       "  <tbody>\n",
       "    <tr>\n",
       "      <th>0</th>\n",
       "      <td>9.300</td>\n",
       "      <td>0</td>\n",
       "      <td>0.016047</td>\n",
       "      <td>4</td>\n",
       "      <td>249.8092</td>\n",
       "      <td>9</td>\n",
       "      <td>1999</td>\n",
       "      <td>1</td>\n",
       "      <td>0</td>\n",
       "      <td>1</td>\n",
       "    </tr>\n",
       "    <tr>\n",
       "      <th>1</th>\n",
       "      <td>5.920</td>\n",
       "      <td>1</td>\n",
       "      <td>0.019278</td>\n",
       "      <td>14</td>\n",
       "      <td>48.2692</td>\n",
       "      <td>3</td>\n",
       "      <td>2009</td>\n",
       "      <td>1</td>\n",
       "      <td>2</td>\n",
       "      <td>2</td>\n",
       "    </tr>\n",
       "    <tr>\n",
       "      <th>2</th>\n",
       "      <td>17.500</td>\n",
       "      <td>0</td>\n",
       "      <td>0.016760</td>\n",
       "      <td>10</td>\n",
       "      <td>141.6180</td>\n",
       "      <td>9</td>\n",
       "      <td>1999</td>\n",
       "      <td>1</td>\n",
       "      <td>0</td>\n",
       "      <td>1</td>\n",
       "    </tr>\n",
       "    <tr>\n",
       "      <th>3</th>\n",
       "      <td>19.200</td>\n",
       "      <td>1</td>\n",
       "      <td>0.000000</td>\n",
       "      <td>6</td>\n",
       "      <td>182.0950</td>\n",
       "      <td>0</td>\n",
       "      <td>1998</td>\n",
       "      <td>1</td>\n",
       "      <td>2</td>\n",
       "      <td>0</td>\n",
       "    </tr>\n",
       "    <tr>\n",
       "      <th>4</th>\n",
       "      <td>8.930</td>\n",
       "      <td>0</td>\n",
       "      <td>0.000000</td>\n",
       "      <td>9</td>\n",
       "      <td>53.8614</td>\n",
       "      <td>1</td>\n",
       "      <td>1987</td>\n",
       "      <td>0</td>\n",
       "      <td>2</td>\n",
       "      <td>1</td>\n",
       "    </tr>\n",
       "    <tr>\n",
       "      <th>...</th>\n",
       "      <td>...</td>\n",
       "      <td>...</td>\n",
       "      <td>...</td>\n",
       "      <td>...</td>\n",
       "      <td>...</td>\n",
       "      <td>...</td>\n",
       "      <td>...</td>\n",
       "      <td>...</td>\n",
       "      <td>...</td>\n",
       "      <td>...</td>\n",
       "    </tr>\n",
       "    <tr>\n",
       "      <th>8518</th>\n",
       "      <td>6.865</td>\n",
       "      <td>0</td>\n",
       "      <td>0.056783</td>\n",
       "      <td>13</td>\n",
       "      <td>214.5218</td>\n",
       "      <td>1</td>\n",
       "      <td>1987</td>\n",
       "      <td>0</td>\n",
       "      <td>2</td>\n",
       "      <td>1</td>\n",
       "    </tr>\n",
       "    <tr>\n",
       "      <th>8519</th>\n",
       "      <td>8.380</td>\n",
       "      <td>1</td>\n",
       "      <td>0.046982</td>\n",
       "      <td>0</td>\n",
       "      <td>108.1570</td>\n",
       "      <td>7</td>\n",
       "      <td>2002</td>\n",
       "      <td>1</td>\n",
       "      <td>1</td>\n",
       "      <td>1</td>\n",
       "    </tr>\n",
       "    <tr>\n",
       "      <th>8520</th>\n",
       "      <td>10.600</td>\n",
       "      <td>0</td>\n",
       "      <td>0.035186</td>\n",
       "      <td>8</td>\n",
       "      <td>85.1224</td>\n",
       "      <td>6</td>\n",
       "      <td>2004</td>\n",
       "      <td>2</td>\n",
       "      <td>1</td>\n",
       "      <td>1</td>\n",
       "    </tr>\n",
       "    <tr>\n",
       "      <th>8521</th>\n",
       "      <td>7.210</td>\n",
       "      <td>1</td>\n",
       "      <td>0.145221</td>\n",
       "      <td>13</td>\n",
       "      <td>103.1332</td>\n",
       "      <td>3</td>\n",
       "      <td>2009</td>\n",
       "      <td>1</td>\n",
       "      <td>2</td>\n",
       "      <td>2</td>\n",
       "    </tr>\n",
       "    <tr>\n",
       "      <th>8522</th>\n",
       "      <td>14.800</td>\n",
       "      <td>0</td>\n",
       "      <td>0.044878</td>\n",
       "      <td>14</td>\n",
       "      <td>75.4670</td>\n",
       "      <td>8</td>\n",
       "      <td>1997</td>\n",
       "      <td>2</td>\n",
       "      <td>0</td>\n",
       "      <td>1</td>\n",
       "    </tr>\n",
       "  </tbody>\n",
       "</table>\n",
       "<p>8523 rows × 10 columns</p>\n",
       "</div>"
      ],
      "text/plain": [
       "      Item_Weight  Item_Fat_Content  Item_Visibility  Item_Type  Item_MRP  \\\n",
       "0           9.300                 0         0.016047          4  249.8092   \n",
       "1           5.920                 1         0.019278         14   48.2692   \n",
       "2          17.500                 0         0.016760         10  141.6180   \n",
       "3          19.200                 1         0.000000          6  182.0950   \n",
       "4           8.930                 0         0.000000          9   53.8614   \n",
       "...           ...               ...              ...        ...       ...   \n",
       "8518        6.865                 0         0.056783         13  214.5218   \n",
       "8519        8.380                 1         0.046982          0  108.1570   \n",
       "8520       10.600                 0         0.035186          8   85.1224   \n",
       "8521        7.210                 1         0.145221         13  103.1332   \n",
       "8522       14.800                 0         0.044878         14   75.4670   \n",
       "\n",
       "      Outlet_Identifier  Outlet_Establishment_Year  Outlet_Size  \\\n",
       "0                     9                       1999            1   \n",
       "1                     3                       2009            1   \n",
       "2                     9                       1999            1   \n",
       "3                     0                       1998            1   \n",
       "4                     1                       1987            0   \n",
       "...                 ...                        ...          ...   \n",
       "8518                  1                       1987            0   \n",
       "8519                  7                       2002            1   \n",
       "8520                  6                       2004            2   \n",
       "8521                  3                       2009            1   \n",
       "8522                  8                       1997            2   \n",
       "\n",
       "      Outlet_Location_Type  Outlet_Type  \n",
       "0                        0            1  \n",
       "1                        2            2  \n",
       "2                        0            1  \n",
       "3                        2            0  \n",
       "4                        2            1  \n",
       "...                    ...          ...  \n",
       "8518                     2            1  \n",
       "8519                     1            1  \n",
       "8520                     1            1  \n",
       "8521                     2            2  \n",
       "8522                     0            1  \n",
       "\n",
       "[8523 rows x 10 columns]"
      ]
     },
     "execution_count": 229,
     "metadata": {},
     "output_type": "execute_result"
    }
   ],
   "source": [
    "x"
   ]
  },
  {
   "cell_type": "code",
   "execution_count": null,
   "metadata": {},
   "outputs": [],
   "source": []
  },
  {
   "cell_type": "code",
   "execution_count": 230,
   "metadata": {},
   "outputs": [],
   "source": [
    "y = df['Item_Outlet_Sales']"
   ]
  },
  {
   "cell_type": "code",
   "execution_count": 231,
   "metadata": {},
   "outputs": [
    {
     "data": {
      "text/plain": [
       "0       4235.4750\n",
       "1        604.4969\n",
       "2       2358.5261\n",
       "3        811.6203\n",
       "4        736.0226\n",
       "          ...    \n",
       "8518    2955.1711\n",
       "8519    1634.5360\n",
       "8520    1241.0330\n",
       "8521    1696.4160\n",
       "8522    1014.8792\n",
       "Name: Item_Outlet_Sales, Length: 8523, dtype: float64"
      ]
     },
     "execution_count": 231,
     "metadata": {},
     "output_type": "execute_result"
    }
   ],
   "source": [
    "y"
   ]
  },
  {
   "cell_type": "code",
   "execution_count": 233,
   "metadata": {},
   "outputs": [],
   "source": [
    "x1 = df.drop(columns = \"Item_Outlet_Sales\")"
   ]
  },
  {
   "cell_type": "markdown",
   "metadata": {},
   "source": [
    "# Standard scalling\n"
   ]
  },
  {
   "cell_type": "code",
   "execution_count": 234,
   "metadata": {},
   "outputs": [],
   "source": [
    "scaler = StandardScaler()"
   ]
  },
  {
   "cell_type": "code",
   "execution_count": 235,
   "metadata": {},
   "outputs": [],
   "source": [
    "x_scalar = scaler.fit_transform(x1)"
   ]
  },
  {
   "cell_type": "code",
   "execution_count": 236,
   "metadata": {},
   "outputs": [
    {
     "data": {
      "text/plain": [
       "array([[-0.84187169, -0.73814723, -0.97073217, ..., -0.28458121,\n",
       "        -1.36933384, -0.25265831],\n",
       "       [-1.64170589,  1.35474328, -0.90811123, ..., -0.28458121,\n",
       "         1.09156913,  1.00297245],\n",
       "       [ 1.09855449, -0.73814723, -0.95691733, ..., -0.28458121,\n",
       "        -1.36933384, -0.25265831],\n",
       "       ...,\n",
       "       [-0.53424315, -0.73814723, -0.59978449, ...,  1.38127431,\n",
       "        -0.13888236, -0.25265831],\n",
       "       [-1.33644372,  1.35474328,  1.53287976, ..., -0.28458121,\n",
       "         1.09156913,  1.00297245],\n",
       "       [ 0.45963367, -0.73814723, -0.41193591, ...,  1.38127431,\n",
       "        -1.36933384, -0.25265831]])"
      ]
     },
     "execution_count": 236,
     "metadata": {},
     "output_type": "execute_result"
    }
   ],
   "source": [
    "x_scalar"
   ]
  },
  {
   "cell_type": "code",
   "execution_count": 237,
   "metadata": {},
   "outputs": [],
   "source": [
    "x_df = pd.DataFrame(x_scalar)"
   ]
  },
  {
   "cell_type": "code",
   "execution_count": 238,
   "metadata": {},
   "outputs": [
    {
     "data": {
      "text/html": [
       "<div>\n",
       "<style scoped>\n",
       "    .dataframe tbody tr th:only-of-type {\n",
       "        vertical-align: middle;\n",
       "    }\n",
       "\n",
       "    .dataframe tbody tr th {\n",
       "        vertical-align: top;\n",
       "    }\n",
       "\n",
       "    .dataframe thead th {\n",
       "        text-align: right;\n",
       "    }\n",
       "</style>\n",
       "<table border=\"1\" class=\"dataframe\">\n",
       "  <thead>\n",
       "    <tr style=\"text-align: right;\">\n",
       "      <th></th>\n",
       "      <th>0</th>\n",
       "      <th>1</th>\n",
       "      <th>2</th>\n",
       "      <th>3</th>\n",
       "      <th>4</th>\n",
       "      <th>5</th>\n",
       "      <th>6</th>\n",
       "      <th>7</th>\n",
       "      <th>8</th>\n",
       "      <th>9</th>\n",
       "    </tr>\n",
       "  </thead>\n",
       "  <tbody>\n",
       "    <tr>\n",
       "      <th>0</th>\n",
       "      <td>-0.841872</td>\n",
       "      <td>-0.738147</td>\n",
       "      <td>-0.970732</td>\n",
       "      <td>-0.766479</td>\n",
       "      <td>1.747454</td>\n",
       "      <td>1.507813</td>\n",
       "      <td>0.139541</td>\n",
       "      <td>-0.284581</td>\n",
       "      <td>-1.369334</td>\n",
       "      <td>-0.252658</td>\n",
       "    </tr>\n",
       "    <tr>\n",
       "      <th>1</th>\n",
       "      <td>-1.641706</td>\n",
       "      <td>1.354743</td>\n",
       "      <td>-0.908111</td>\n",
       "      <td>1.608963</td>\n",
       "      <td>-1.489023</td>\n",
       "      <td>-0.607071</td>\n",
       "      <td>1.334103</td>\n",
       "      <td>-0.284581</td>\n",
       "      <td>1.091569</td>\n",
       "      <td>1.002972</td>\n",
       "    </tr>\n",
       "    <tr>\n",
       "      <th>2</th>\n",
       "      <td>1.098554</td>\n",
       "      <td>-0.738147</td>\n",
       "      <td>-0.956917</td>\n",
       "      <td>0.658786</td>\n",
       "      <td>0.010040</td>\n",
       "      <td>1.507813</td>\n",
       "      <td>0.139541</td>\n",
       "      <td>-0.284581</td>\n",
       "      <td>-1.369334</td>\n",
       "      <td>-0.252658</td>\n",
       "    </tr>\n",
       "    <tr>\n",
       "      <th>3</th>\n",
       "      <td>1.500838</td>\n",
       "      <td>1.354743</td>\n",
       "      <td>-1.281758</td>\n",
       "      <td>-0.291391</td>\n",
       "      <td>0.660050</td>\n",
       "      <td>-1.664513</td>\n",
       "      <td>0.020085</td>\n",
       "      <td>-0.284581</td>\n",
       "      <td>1.091569</td>\n",
       "      <td>-1.508289</td>\n",
       "    </tr>\n",
       "    <tr>\n",
       "      <th>4</th>\n",
       "      <td>-0.929428</td>\n",
       "      <td>-0.738147</td>\n",
       "      <td>-1.281758</td>\n",
       "      <td>0.421242</td>\n",
       "      <td>-1.399220</td>\n",
       "      <td>-1.312032</td>\n",
       "      <td>-1.293934</td>\n",
       "      <td>-1.950437</td>\n",
       "      <td>1.091569</td>\n",
       "      <td>-0.252658</td>\n",
       "    </tr>\n",
       "    <tr>\n",
       "      <th>...</th>\n",
       "      <td>...</td>\n",
       "      <td>...</td>\n",
       "      <td>...</td>\n",
       "      <td>...</td>\n",
       "      <td>...</td>\n",
       "      <td>...</td>\n",
       "      <td>...</td>\n",
       "      <td>...</td>\n",
       "      <td>...</td>\n",
       "      <td>...</td>\n",
       "    </tr>\n",
       "    <tr>\n",
       "      <th>8518</th>\n",
       "      <td>-1.418084</td>\n",
       "      <td>-0.738147</td>\n",
       "      <td>-0.181193</td>\n",
       "      <td>1.371418</td>\n",
       "      <td>1.180783</td>\n",
       "      <td>-1.312032</td>\n",
       "      <td>-1.293934</td>\n",
       "      <td>-1.950437</td>\n",
       "      <td>1.091569</td>\n",
       "      <td>-0.252658</td>\n",
       "    </tr>\n",
       "    <tr>\n",
       "      <th>8519</th>\n",
       "      <td>-1.059578</td>\n",
       "      <td>1.354743</td>\n",
       "      <td>-0.371154</td>\n",
       "      <td>-1.716656</td>\n",
       "      <td>-0.527301</td>\n",
       "      <td>0.802852</td>\n",
       "      <td>0.497909</td>\n",
       "      <td>-0.284581</td>\n",
       "      <td>-0.138882</td>\n",
       "      <td>-0.252658</td>\n",
       "    </tr>\n",
       "    <tr>\n",
       "      <th>8520</th>\n",
       "      <td>-0.534243</td>\n",
       "      <td>-0.738147</td>\n",
       "      <td>-0.599784</td>\n",
       "      <td>0.183698</td>\n",
       "      <td>-0.897208</td>\n",
       "      <td>0.450371</td>\n",
       "      <td>0.736822</td>\n",
       "      <td>1.381274</td>\n",
       "      <td>-0.138882</td>\n",
       "      <td>-0.252658</td>\n",
       "    </tr>\n",
       "    <tr>\n",
       "      <th>8521</th>\n",
       "      <td>-1.336444</td>\n",
       "      <td>1.354743</td>\n",
       "      <td>1.532880</td>\n",
       "      <td>1.371418</td>\n",
       "      <td>-0.607977</td>\n",
       "      <td>-0.607071</td>\n",
       "      <td>1.334103</td>\n",
       "      <td>-0.284581</td>\n",
       "      <td>1.091569</td>\n",
       "      <td>1.002972</td>\n",
       "    </tr>\n",
       "    <tr>\n",
       "      <th>8522</th>\n",
       "      <td>0.459634</td>\n",
       "      <td>-0.738147</td>\n",
       "      <td>-0.411936</td>\n",
       "      <td>1.608963</td>\n",
       "      <td>-1.052261</td>\n",
       "      <td>1.155333</td>\n",
       "      <td>-0.099372</td>\n",
       "      <td>1.381274</td>\n",
       "      <td>-1.369334</td>\n",
       "      <td>-0.252658</td>\n",
       "    </tr>\n",
       "  </tbody>\n",
       "</table>\n",
       "<p>8523 rows × 10 columns</p>\n",
       "</div>"
      ],
      "text/plain": [
       "             0         1         2         3         4         5         6  \\\n",
       "0    -0.841872 -0.738147 -0.970732 -0.766479  1.747454  1.507813  0.139541   \n",
       "1    -1.641706  1.354743 -0.908111  1.608963 -1.489023 -0.607071  1.334103   \n",
       "2     1.098554 -0.738147 -0.956917  0.658786  0.010040  1.507813  0.139541   \n",
       "3     1.500838  1.354743 -1.281758 -0.291391  0.660050 -1.664513  0.020085   \n",
       "4    -0.929428 -0.738147 -1.281758  0.421242 -1.399220 -1.312032 -1.293934   \n",
       "...        ...       ...       ...       ...       ...       ...       ...   \n",
       "8518 -1.418084 -0.738147 -0.181193  1.371418  1.180783 -1.312032 -1.293934   \n",
       "8519 -1.059578  1.354743 -0.371154 -1.716656 -0.527301  0.802852  0.497909   \n",
       "8520 -0.534243 -0.738147 -0.599784  0.183698 -0.897208  0.450371  0.736822   \n",
       "8521 -1.336444  1.354743  1.532880  1.371418 -0.607977 -0.607071  1.334103   \n",
       "8522  0.459634 -0.738147 -0.411936  1.608963 -1.052261  1.155333 -0.099372   \n",
       "\n",
       "             7         8         9  \n",
       "0    -0.284581 -1.369334 -0.252658  \n",
       "1    -0.284581  1.091569  1.002972  \n",
       "2    -0.284581 -1.369334 -0.252658  \n",
       "3    -0.284581  1.091569 -1.508289  \n",
       "4    -1.950437  1.091569 -0.252658  \n",
       "...        ...       ...       ...  \n",
       "8518 -1.950437  1.091569 -0.252658  \n",
       "8519 -0.284581 -0.138882 -0.252658  \n",
       "8520  1.381274 -0.138882 -0.252658  \n",
       "8521 -0.284581  1.091569  1.002972  \n",
       "8522  1.381274 -1.369334 -0.252658  \n",
       "\n",
       "[8523 rows x 10 columns]"
      ]
     },
     "execution_count": 238,
     "metadata": {},
     "output_type": "execute_result"
    }
   ],
   "source": [
    "x_df"
   ]
  },
  {
   "cell_type": "code",
   "execution_count": 295,
   "metadata": {},
   "outputs": [],
   "source": [
    "x_train , x_test ,y_train , y_test = train_test_split(x_scalar , y , test_size = .10,random_state =  250)"
   ]
  },
  {
   "cell_type": "markdown",
   "metadata": {},
   "source": [
    "# Models fitting"
   ]
  },
  {
   "cell_type": "markdown",
   "metadata": {},
   "source": [
    "# Linear Regression"
   ]
  },
  {
   "cell_type": "code",
   "execution_count": 296,
   "metadata": {},
   "outputs": [],
   "source": [
    "from sklearn.linear_model import LinearRegression"
   ]
  },
  {
   "cell_type": "code",
   "execution_count": 297,
   "metadata": {},
   "outputs": [],
   "source": [
    "model = LinearRegression()"
   ]
  },
  {
   "cell_type": "code",
   "execution_count": 298,
   "metadata": {},
   "outputs": [
    {
     "data": {
      "text/plain": [
       "LinearRegression()"
      ]
     },
     "execution_count": 298,
     "metadata": {},
     "output_type": "execute_result"
    }
   ],
   "source": [
    "model.fit(x_train, y_train)"
   ]
  },
  {
   "cell_type": "code",
   "execution_count": 299,
   "metadata": {},
   "outputs": [
    {
     "data": {
      "text/plain": [
       "67.13299887896203"
      ]
     },
     "execution_count": 299,
     "metadata": {},
     "output_type": "execute_result"
    }
   ],
   "source": [
    "model.score(x_train,y_train)*100"
   ]
  },
  {
   "cell_type": "code",
   "execution_count": 300,
   "metadata": {},
   "outputs": [
    {
     "data": {
      "text/plain": [
       "69.53009803017632"
      ]
     },
     "execution_count": 300,
     "metadata": {},
     "output_type": "execute_result"
    }
   ],
   "source": [
    "model.score(x_test, y_test)*100"
   ]
  },
  {
   "cell_type": "code",
   "execution_count": 301,
   "metadata": {},
   "outputs": [],
   "source": [
    "y_test_pred = model.predict(x_test)"
   ]
  },
  {
   "cell_type": "code",
   "execution_count": 302,
   "metadata": {},
   "outputs": [
    {
     "name": "stdout",
     "output_type": "stream",
     "text": [
      "Mean absolute error = 601.01\n",
      "Mean squared error = 646903.45\n",
      "Median absolute error = 472.47\n",
      "Explain variance score = 0.7\n",
      "R2 score = 0.7\n"
     ]
    }
   ],
   "source": [
    "import sklearn.metrics as sm\n",
    "print(\"Mean absolute error =\", round(sm.mean_absolute_error(y_test, y_test_pred), 2)) \n",
    "print(\"Mean squared error =\", round(sm.mean_squared_error(y_test, y_test_pred), 2)) \n",
    "print(\"Median absolute error =\", round(sm.median_absolute_error(y_test, y_test_pred), 2)) \n",
    "print(\"Explain variance score =\", round(sm.explained_variance_score(y_test, y_test_pred), 2)) \n",
    "print(\"R2 score =\", round(sm.r2_score(y_test, y_test_pred), 2))"
   ]
  },
  {
   "cell_type": "markdown",
   "metadata": {},
   "source": [
    "## XgBoost "
   ]
  },
  {
   "cell_type": "code",
   "execution_count": 303,
   "metadata": {},
   "outputs": [],
   "source": [
    "xgb_model_1 = xgb.XGBRegressor(learning_rate = .01, n_estimators = 400)"
   ]
  },
  {
   "cell_type": "code",
   "execution_count": 304,
   "metadata": {},
   "outputs": [
    {
     "data": {
      "text/plain": [
       "XGBRegressor(base_score=0.5, booster='gbtree', colsample_bylevel=1,\n",
       "             colsample_bynode=1, colsample_bytree=1, enable_categorical=False,\n",
       "             gamma=0, gpu_id=-1, importance_type=None,\n",
       "             interaction_constraints='', learning_rate=0.01, max_delta_step=0,\n",
       "             max_depth=6, min_child_weight=1, missing=nan,\n",
       "             monotone_constraints='()', n_estimators=400, n_jobs=8,\n",
       "             num_parallel_tree=1, predictor='auto', random_state=0, reg_alpha=0,\n",
       "             reg_lambda=1, scale_pos_weight=1, subsample=1, tree_method='exact',\n",
       "             validate_parameters=1, verbosity=None)"
      ]
     },
     "execution_count": 304,
     "metadata": {},
     "output_type": "execute_result"
    }
   ],
   "source": [
    "xgb_model_1.fit(x_train,y_train)"
   ]
  },
  {
   "cell_type": "code",
   "execution_count": 305,
   "metadata": {},
   "outputs": [
    {
     "data": {
      "text/plain": [
       "0.8385486206294918"
      ]
     },
     "execution_count": 305,
     "metadata": {},
     "output_type": "execute_result"
    }
   ],
   "source": [
    "xgb_model_1.score(x_train,y_train)"
   ]
  },
  {
   "cell_type": "code",
   "execution_count": 306,
   "metadata": {},
   "outputs": [
    {
     "data": {
      "text/plain": [
       "0.8332926485737466"
      ]
     },
     "execution_count": 306,
     "metadata": {},
     "output_type": "execute_result"
    }
   ],
   "source": [
    "xgb_model_1.score(x_test,y_test)"
   ]
  },
  {
   "cell_type": "code",
   "execution_count": 294,
   "metadata": {},
   "outputs": [],
   "source": [
    "y_test_pred = xgb_model_1.predict(x_test)"
   ]
  },
  {
   "cell_type": "code",
   "execution_count": 280,
   "metadata": {},
   "outputs": [
    {
     "data": {
      "text/plain": [
       "array([3116.4783  , 6193.6694  ,  613.4025  , 1697.7711  , 2125.5286  ,\n",
       "       2382.0051  ,  292.78546 , 1842.6506  ,  851.34344 , 1652.1437  ,\n",
       "       4637.949   ,  261.99585 ,  343.87076 ,  854.8293  ,  776.3687  ,\n",
       "       4369.8975  , 1871.5466  ,  797.0273  , 2355.2764  , 2033.5482  ,\n",
       "       3782.0334  , 3226.5393  , 3274.6191  , 3813.8596  , 1382.854   ,\n",
       "       1625.7565  ,  654.94507 ,  372.55942 ,  618.2142  , 3594.451   ,\n",
       "        948.2759  , 3047.3374  , 6136.3887  , 1714.1307  , 1286.2754  ,\n",
       "        573.3441  , 4790.196   , 3800.522   , 1515.3381  , 3719.4065  ,\n",
       "       3648.2563  , 1532.498   , 3452.394   , 2617.0015  , 3486.3975  ,\n",
       "       2352.4924  ,  526.1061  , 1335.748   , 3207.8657  ,  649.36804 ,\n",
       "       2536.3733  , 3513.2754  , 2590.5425  , 2792.622   , 2692.9675  ,\n",
       "       3877.4822  , 1353.7858  , 4391.0254  , 1642.4553  , 3146.8464  ,\n",
       "       1647.3577  ,  477.5167  , 2446.0952  ,  302.97156 ,  123.766106,\n",
       "        569.3236  ,  656.5585  ,  309.30078 , 3036.8584  , 1089.0251  ,\n",
       "       2828.3762  , 3132.9546  ,  665.88336 , 4236.92    , 2277.077   ,\n",
       "         75.031   ,  397.4904  , 3423.1165  , 2111.5571  , 1663.5598  ,\n",
       "       1154.7299  , 3032.47    , 2339.4626  , 3796.7986  , 2892.2893  ,\n",
       "       3717.9546  , 2151.0872  , 1486.099   , 2471.8035  , 5410.459   ,\n",
       "       5224.1533  , 3467.2007  , 3638.0583  , 2598.5652  , 4034.6838  ,\n",
       "       1474.5135  , 1481.1993  , 1888.4464  , 2319.3696  ,  612.4155  ,\n",
       "       1610.3922  , 2363.5103  , 3314.0168  , 3308.8853  , 2436.6174  ,\n",
       "         91.8989  , 2351.507   ,  194.95537 , 2174.6016  , 4041.1575  ,\n",
       "        532.23065 , 2236.671   , 3441.6462  , 3068.566   , 1636.0399  ,\n",
       "       4264.059   , 3601.0078  , 1333.8641  , 3446.0225  ,  519.70953 ,\n",
       "       2972.4587  , 2413.6404  ,  304.98203 , 3776.0034  , 5031.006   ,\n",
       "       3064.703   , 1364.6449  , 3124.2063  , 3099.6619  , 3213.0461  ,\n",
       "        296.81372 ,  428.53018 , 2345.912   , 3238.5945  , 3279.289   ,\n",
       "        492.5522  , 3265.647   , 2486.1084  ,  663.385   ,  764.8099  ,\n",
       "         75.49934 , 3364.4868  , 3923.7766  ,  299.3346  ,  560.9958  ,\n",
       "       1284.3572  , 2019.2167  , 2157.2866  , 2443.655   , 1482.8497  ,\n",
       "       1157.0801  , 1871.5161  , 2631.2766  , 3834.063   , 1202.7318  ,\n",
       "       2106.7822  , 3667.503   , 1980.1215  , 3275.723   , 1838.9567  ,\n",
       "        295.50983 ,  295.7286  ,  259.34018 ,  372.15997 , 3845.8184  ,\n",
       "       2975.0273  ,  605.761   , 2651.4502  ,  351.2497  , 1289.9117  ,\n",
       "       3846.332   , 1650.566   , 3339.0176  , 2393.9749  ,  180.9134  ,\n",
       "        947.3123  , 3099.252   ,   81.08355 , 5190.193   , 3753.5295  ,\n",
       "       5413.6777  , 1331.8464  , 2716.2634  , 1857.8387  , 2338.0593  ,\n",
       "       2517.9412  , 2385.355   , 2049.092   ,  500.26767 , 4355.8643  ,\n",
       "       1931.3993  , 3903.9563  , 2388.3687  , 4745.2144  , 1418.5762  ,\n",
       "       2539.9487  ,  499.85104 , 1525.6396  , 2404.7585  , 1127.255   ,\n",
       "       2724.4543  ,  234.07124 , 2932.54    ,  511.88257 ,  512.4485  ,\n",
       "       1980.4823  , 3061.3303  ,  942.7289  ,  193.093   , 2007.5356  ,\n",
       "       3060.404   , 1836.7528  , 3077.5134  , 2011.5764  , 2468.2517  ,\n",
       "       3217.9236  , 2987.0537  , 4206.1406  , 5610.802   ,  208.98868 ,\n",
       "       2543.2786  , 2109.399   , 5737.214   , 1798.1462  ,  448.61392 ,\n",
       "        531.38715 , 2769.7673  , 1408.8677  ,  168.08507 ,  237.90685 ,\n",
       "       1842.6506  , 2943.2324  , 2269.5466  , 1659.2225  ,  475.46713 ,\n",
       "       3038.7822  ,  664.97174 , 3082.7903  , 2226.1355  , 3200.2214  ,\n",
       "       1926.077   ,  437.39508 ,  667.3891  , 2513.9636  , 1664.0565  ,\n",
       "       1900.4607  , 3944.6873  , 1860.1077  , 3649.729   , 3097.511   ,\n",
       "        375.44064 , 2017.4027  ,  626.7281  , 5105.3945  ,  435.0745  ,\n",
       "        532.6631  ,  116.202896, 2471.8035  , 3753.3125  , 2784.9106  ,\n",
       "       3586.753   , 1536.8889  , 1663.3643  , 2743.6648  , 3123.1155  ,\n",
       "       2119.691   , 3046.698   , 2909.2761  , 2771.7473  ,  947.14777 ,\n",
       "       2404.4714  , 1060.4879  ,  534.6963  , 1189.4082  ,  510.59946 ,\n",
       "       5417.093   , 1554.6924  , 3934.2698  ,  206.98178 , 2058.8396  ,\n",
       "       1684.6655  , 2908.4597  , 1063.212   , 5708.2476  , 2074.6396  ,\n",
       "       4565.7134  ,  532.5884  , 2126.813   , 1685.1974  , 1812.583   ,\n",
       "       3671.8572  , 3971.9907  , 2372.7698  , 1476.9636  , 2530.31    ,\n",
       "       4132.1865  ,  794.30194 , 3266.4204  , 3889.1064  ,  942.458   ,\n",
       "       1866.716   , 2712.2834  , 1558.8591  , 1822.532   ,  872.74817 ,\n",
       "        637.52563 , 1726.6104  , 4641.465   , 5235.564   ,  865.46826 ,\n",
       "       3243.4832  , 2910.0408  , 4405.8447  , 2201.5842  , 3983.3992  ,\n",
       "       2365.6057  ,  152.45944 , 1307.0076  , 2556.8176  , 2940.0623  ,\n",
       "       2453.6973  , 2201.3516  , 1366.4797  ,  343.5075  , 2558.621   ,\n",
       "       1734.8186  , 3708.0818  , 3291.1956  , 1324.9714  , 4396.054   ,\n",
       "       3056.9788  , 3921.6663  , 4349.9536  , 2698.156   ,  840.839   ,\n",
       "        665.88336 , 1846.6855  , 3036.0715  ,  945.4854  ,  788.7689  ,\n",
       "       2164.5603  , 2503.0828  , 2058.4902  , 2466.8147  , 3921.7769  ,\n",
       "        667.5524  ,   83.1089  , 2825.604   , 2132.7444  ,  331.40604 ,\n",
       "        938.79474 , 3634.5056  , 2239.0347  , 2572.3577  , 3043.7935  ,\n",
       "        923.8179  ,  666.36273 ,  100.33503 ,  403.2478  , 2933.9329  ,\n",
       "        601.5771  , 1330.4698  , 1313.9836  , 3459.412   , 1928.5099  ,\n",
       "       5519.8745  , 1636.0886  ,  567.5087  ,  665.4233  , 3101.2844  ,\n",
       "       1471.9716  ,  807.3783  ,  360.89328 ,  666.9256  , 3363.8809  ,\n",
       "       3003.272   , 5207.8394  , 2491.4622  , 1261.836   , 1586.4364  ,\n",
       "       2460.4578  , 1886.9131  , 1213.1494  , 2731.9775  , 1640.1578  ,\n",
       "       2784.173   ,  731.93414 , 1390.3893  , 3939.3708  , 3950.829   ,\n",
       "       1338.1321  , 1627.4105  ,  229.08264 , 4017.045   ,  351.97754 ,\n",
       "       2034.9552  , 1586.1808  , 1845.9286  , 2832.3147  ,  993.1215  ,\n",
       "       3328.944   ,  662.8114  ,  926.45294 ,  666.9256  , 1562.103   ,\n",
       "       3049.2375  , 3153.275   , 3424.855   , 1427.507   , 3621.0293  ,\n",
       "       1746.4048  ,  796.91943 , 1539.6454  , 2172.4692  , 1657.0773  ,\n",
       "       1210.8431  , 2366.6694  , 1405.101   , 3747.8047  , 3408.5027  ,\n",
       "       1494.308   , 2546.33    , 1387.0648  ,  775.68225 ,  240.08968 ,\n",
       "       2338.6401  , 2824.3713  , 5139.52    , 1750.7695  , 1771.4823  ,\n",
       "        139.17604 , 6206.6016  ,  637.73474 , 1572.3666  , 2386.829   ,\n",
       "       6257.8433  , 2401.617   , 1760.1472  , 5228.5435  , 3197.1094  ,\n",
       "        885.4169  ,  356.16888 , 2458.078   , 1850.1008  , 1700.5577  ,\n",
       "        775.0605  , 3045.2446  , 2666.4348  , 2095.4448  , 3148.1973  ,\n",
       "       4993.849   , 2463.4932  , 1302.8542  , 1949.1888  , 1483.4344  ,\n",
       "       2382.9834  ,  794.5338  , 1496.7273  , 2992.8218  , 3033.131   ,\n",
       "        499.58246 , 4160.918   , 4004.928   , 3009.9224  , 1361.7677  ,\n",
       "       2643.4827  , 5101.271   , 3079.401   , 3659.2568  , 2118.5725  ,\n",
       "        858.48914 , 1316.1989  , 3018.0037  ,  678.53595 , 1863.4714  ,\n",
       "       2508.0647  , 3178.0273  ,  267.30115 , 1049.9169  , 2114.7295  ,\n",
       "       3198.4922  , 2443.655   , 1720.4486  ,  232.8471  , 2218.8022  ,\n",
       "        476.62137 , 1351.2335  , 5484.685   ,  276.27985 , 3046.389   ,\n",
       "       4369.596   , 3830.5615  , 3068.3418  , 1976.6432  , 2124.4656  ,\n",
       "        767.8109  , 2424.9854  , 2304.2407  , 1753.1228  , 3339.4229  ,\n",
       "       1638.0587  , 2019.9612  , 3365.4397  ,  291.1175  ,  561.77856 ,\n",
       "        237.14194 , 1477.0814  ,  570.4384  ,  490.35632 , 2575.6538  ,\n",
       "       3432.853   ,  226.24419 , 2118.186   , 2419.635   ,  860.40656 ,\n",
       "       3073.7632  , 3786.7747  , 2543.524   , 3326.587   , 3154.1184  ,\n",
       "       3031.7004  , 5838.496   , 3406.8142  , 3750.1646  ,  609.2321  ,\n",
       "        944.9685  , 1282.7101  ,  998.8789  , 2759.0464  , 3019.2942  ,\n",
       "       3357.3625  , 3226.0706  , 3263.5635  ,  772.8893  ,  667.829   ,\n",
       "        327.25378 , 1719.0404  , 1348.9592  ,  660.56696 , 3816.0437  ,\n",
       "        543.5077  , 2489.981   , 1274.5911  , 2560.4983  , 2478.745   ,\n",
       "        651.82367 ,  659.4819  , 3395.0469  ,  768.34937 , 2883.5398  ,\n",
       "        579.66327 , 1506.3562  , 3042.2239  ,  195.55943 , 3612.1638  ,\n",
       "       3415.6206  ,  636.3599  , 1533.6022  , 2828.6316  , 1851.269   ,\n",
       "       2776.7295  , 1678.35    , 2450.3235  , 2509.199   ,  332.67953 ,\n",
       "       2366.11    , 2042.6125  , 4813.016   , 2059.8655  ,  666.54175 ,\n",
       "       1050.4515  , 2631.8538  , 3274.0706  , 4001.418   , 3102.109   ,\n",
       "        674.0165  , 1264.2404  , 1768.3184  , 3655.8506  , 3669.9902  ,\n",
       "       1492.3423  ,  651.3164  ,  581.0637  , 1968.6069  , 3003.5225  ,\n",
       "        685.4631  , 1258.2787  ,  589.9723  , 2052.359   , 2476.6377  ,\n",
       "        766.5182  , 1048.2104  ,  851.88007 , 2730.483   , 2550.441   ,\n",
       "       1495.3644  , 3346.7517  , 2105.405   , 2475.9373  , 2574.6716  ,\n",
       "       1922.1099  , 3046.6135  , 4047.5815  , 1290.5077  , 2481.6865  ,\n",
       "       1829.9545  ,  711.7249  , 3125.3384  , 5444.5947  , 1860.2955  ,\n",
       "        867.04376 , 2727.0347  , 1341.6343  , 1617.5271  , 1499.0602  ,\n",
       "        782.27734 , 1064.9847  , 3146.3792  , 2862.6243  , 1844.5742  ,\n",
       "       1650.7095  , 1404.1581  ,  441.49734 ,  232.52235 , 2782.1064  ,\n",
       "       2470.8652  , 2588.8203  , 2366.005   , 1585.013   ,  735.4995  ,\n",
       "        499.7752  , 1945.7853  , 2441.492   , 3472.061   ,  101.87217 ,\n",
       "       1387.8823  , 2129.8499  , 1336.9001  , 1283.3646  ,  984.0099  ,\n",
       "       2389.968   , 3956.6953  ,  488.17776 , 1844.1956  , 4458.583   ,\n",
       "       1063.1902  , 1492.8206  , 3347.4182  , 3685.5686  , 6267.7173  ,\n",
       "       4027.4785  ,  131.16269 , 1359.4126  , 3060.404   ,  451.36584 ,\n",
       "       1212.0027  ,  354.6632  ,  773.9976  , 2495.0005  , 2853.584   ,\n",
       "       2898.6355  , 2373.9893  , 2508.893   , 3102.9634  ,  841.4925  ,\n",
       "         77.78112 , 2697.7002  , 2482.864   ,  611.3858  ,  233.2707  ,\n",
       "        407.9533  , 3999.5881  ,  289.46582 , 3794.2659  , 2482.4512  ,\n",
       "       2049.6672  , 3982.2334  ,  659.8569  , 1790.4352  , 3777.0151  ,\n",
       "       3130.3242  ,  560.0511  , 2062.8538  , 1573.0261  , 1670.37    ,\n",
       "       1993.498   , 3003.9268  ,  251.92867 , 1500.1783  ,  416.953   ,\n",
       "       1966.6344  ,  779.9448  , 3864.9158  , 2507.4675  ,  343.20236 ,\n",
       "       4129.607   , 3277.164   , 1334.5455  , 1556.5487  , 1184.4214  ,\n",
       "        457.17508 , 1246.3821  , 1232.4191  , 1396.8983  ,  437.20605 ,\n",
       "        234.42233 , 2452.7524  , 3156.1     ,  871.8935  , 1162.9612  ,\n",
       "        920.22504 , 2355.5696  , 5755.282   , 2062.2373  ,  803.3402  ,\n",
       "       3824.9387  , 3103.3464  , 3897.1194  , 3200.38    , 1936.7223  ,\n",
       "       2331.5464  , 2591.6296  ,   86.776634,  646.5564  ,  672.7322  ,\n",
       "        336.43982 , 1937.513   ,  591.0132  , 2063.0662  ,  745.0353  ,\n",
       "       2397.5383  , 2980.3801  ,  664.701   , 2195.9194  , 2383.7668  ,\n",
       "       2008.208   , 2604.2056  , 2391.7334  , 2219.2275  ,  353.47366 ,\n",
       "       1516.7043  , 2654.1165  , 2552.9126  , 2748.9424  ,  487.62546 ,\n",
       "       4130.643   , 2536.0527  , 1041.9443  , 3131.1624  , 1848.4208  ,\n",
       "       3297.9663  , 4272.657   , 3239.545   , 2023.7506  ,  882.0585  ,\n",
       "       2842.891   , 4083.3748  , 3190.5593  ,  604.7505  , 3491.1392  ,\n",
       "       4046.9143  , 2011.2144  , 2476.2205  , 2126.4272  , 3196.7466  ,\n",
       "       2963.2866  , 1659.4886  , 1508.0792  ,  512.32275 , 2106.7944  ,\n",
       "       2613.322   , 3892.3728  , 2785.5264  , 2400.9197  , 1659.8824  ,\n",
       "       1659.0293  ,  505.48724 ,  245.4308  , 3778.275   ,  651.5944  ,\n",
       "       2474.6003  ,  772.0279  ,  346.28018 , 3989.255   ,  876.8721  ,\n",
       "       2055.699   , 1634.377   , 4183.261   , 2513.767   , 3611.5173  ,\n",
       "       2521.72    , 2284.1658  , 2718.6726  , 1669.5977  , 4008.286   ,\n",
       "       5775.135   ,  776.8093  , 2188.5442  , 2612.3364  , 1398.9612  ,\n",
       "       2381.128   , 1653.079   , 3686.2646  , 3839.9314  , 1208.6481  ,\n",
       "        248.0899  , 5690.042   , 2683.4485  , 3749.0579  ,  344.22797 ,\n",
       "       2005.2377  , 1348.1364  , 3389.9417  , 2407.0972  , 1237.0779  ,\n",
       "        965.245   , 3314.7656  , 2370.9373  , 1411.5228  , 3363.6382  ,\n",
       "        178.50905 , 2437.2427  , 1595.2421  , 5384.1064  ,  854.465   ,\n",
       "        714.355   , 3428.2456  , 2195.5735  , 3734.655   , 4187.674   ,\n",
       "       2064.7717  , 3150.1628  , 3089.4238  , 2477.3333  , 1732.0115  ,\n",
       "       4374.201   , 2745.0786  , 3743.2651  ,  993.34735 , 4255.5195  ,\n",
       "       2854.0498  ,  197.11551 , 1781.2615  ,  228.08138 , 1433.502   ,\n",
       "        783.7682  , 3800.439   , 3937.585   ,  178.05084 , 1484.479   ,\n",
       "        324.1779  , 2678.867   , 2286.7554  ], dtype=float32)"
      ]
     },
     "execution_count": 280,
     "metadata": {},
     "output_type": "execute_result"
    }
   ],
   "source": [
    "y_test_pred"
   ]
  },
  {
   "cell_type": "code",
   "execution_count": 281,
   "metadata": {},
   "outputs": [
    {
     "name": "stdout",
     "output_type": "stream",
     "text": [
      "Mean absolute error = 389.4\n",
      "Mean squared error = 353934.71\n",
      "Median absolute error = 207.22\n",
      "Explain variance score = 0.83\n",
      "R2 score = 0.83\n"
     ]
    }
   ],
   "source": [
    "import sklearn.metrics as sm\n",
    "print(\"Mean absolute error =\", round(sm.mean_absolute_error(y_test, y_test_pred), 2)) \n",
    "print(\"Mean squared error =\", round(sm.mean_squared_error(y_test, y_test_pred), 2)) \n",
    "print(\"Median absolute error =\", round(sm.median_absolute_error(y_test, y_test_pred), 2)) \n",
    "print(\"Explain variance score =\", round(sm.explained_variance_score(y_test, y_test_pred), 2)) \n",
    "print(\"R2 score =\", round(sm.r2_score(y_test, y_test_pred), 2))"
   ]
  },
  {
   "cell_type": "markdown",
   "metadata": {},
   "source": [
    "## Gradient Boost"
   ]
  },
  {
   "cell_type": "code",
   "execution_count": 307,
   "metadata": {},
   "outputs": [],
   "source": [
    " gb_parameters = {'learning_rate':[0.15,0.1,0.05,0.01,0.005,0.001], \n",
    "                         'n_estimators':[100,250,500,750,1000,1250,1500,1750],\n",
    "                         'max_depth':[2,3,4,5,6,7],\n",
    "                         'min_samples_split':[2,4,6,8,10,20,40,60,100],\n",
    "                         'min_samples_leaf':[1,3,5,7,9],\n",
    "                         'max_features':[2,3,4,5,6,7],\n",
    "                         'subsample':[0.7,0.75,0.8,0.85,0.9,0.95,1]\n",
    "                        }"
   ]
  },
  {
   "cell_type": "code",
   "execution_count": 308,
   "metadata": {},
   "outputs": [],
   "source": [
    "gb_reg = GradientBoostingRegressor()\n",
    "random_gb = RandomizedSearchCV(estimator=gb_reg,\n",
    "                                        param_distributions=gb_parameters,\n",
    "                                        cv=5,\n",
    "                                        scoring='neg_root_mean_squared_error',\n",
    "                                        n_iter=10,\n",
    "                                        n_jobs=-1,\n",
    "                                        verbose=2,\n",
    "                                        random_state=101\n",
    "                                        )"
   ]
  },
  {
   "cell_type": "code",
   "execution_count": 309,
   "metadata": {},
   "outputs": [
    {
     "name": "stdout",
     "output_type": "stream",
     "text": [
      "Fitting 5 folds for each of 10 candidates, totalling 50 fits\n"
     ]
    },
    {
     "data": {
      "text/plain": [
       "RandomizedSearchCV(cv=5, estimator=GradientBoostingRegressor(), n_jobs=-1,\n",
       "                   param_distributions={'learning_rate': [0.15, 0.1, 0.05, 0.01,\n",
       "                                                          0.005, 0.001],\n",
       "                                        'max_depth': [2, 3, 4, 5, 6, 7],\n",
       "                                        'max_features': [2, 3, 4, 5, 6, 7],\n",
       "                                        'min_samples_leaf': [1, 3, 5, 7, 9],\n",
       "                                        'min_samples_split': [2, 4, 6, 8, 10,\n",
       "                                                              20, 40, 60, 100],\n",
       "                                        'n_estimators': [100, 250, 500, 750,\n",
       "                                                         1000, 1250, 1500,\n",
       "                                                         1750],\n",
       "                                        'subsample': [0.7, 0.75, 0.8, 0.85, 0.9,\n",
       "                                                      0.95, 1]},\n",
       "                   random_state=101, scoring='neg_root_mean_squared_error',\n",
       "                   verbose=2)"
      ]
     },
     "execution_count": 309,
     "metadata": {},
     "output_type": "execute_result"
    }
   ],
   "source": [
    "random_gb.fit(x_train,y_train)"
   ]
  },
  {
   "cell_type": "code",
   "execution_count": 310,
   "metadata": {},
   "outputs": [],
   "source": [
    " best_param = random_gb.best_params_"
   ]
  },
  {
   "cell_type": "code",
   "execution_count": 311,
   "metadata": {},
   "outputs": [],
   "source": [
    "gb_model = GradientBoostingRegressor(subsample = best_param['subsample'],\n",
    "                                                n_estimators = best_param['n_estimators'],\n",
    "                                                min_samples_split = best_param['min_samples_split'],\n",
    "                                                min_samples_leaf = best_param['min_samples_leaf'],\n",
    "                                                max_features = best_param['max_features'],\n",
    "                                                max_depth = best_param['max_depth'],\n",
    "                                                learning_rate = best_param['learning_rate'])"
   ]
  },
  {
   "cell_type": "code",
   "execution_count": 312,
   "metadata": {},
   "outputs": [
    {
     "data": {
      "text/plain": [
       "GradientBoostingRegressor(learning_rate=0.05, max_depth=6, max_features=5,\n",
       "                          min_samples_leaf=5, min_samples_split=20,\n",
       "                          n_estimators=750, subsample=0.85)"
      ]
     },
     "execution_count": 312,
     "metadata": {},
     "output_type": "execute_result"
    }
   ],
   "source": [
    "gb_model.fit(x_train,y_train)"
   ]
  },
  {
   "cell_type": "code",
   "execution_count": 313,
   "metadata": {},
   "outputs": [
    {
     "data": {
      "text/plain": [
       "0.9468557421535003"
      ]
     },
     "execution_count": 313,
     "metadata": {},
     "output_type": "execute_result"
    }
   ],
   "source": [
    "gb_model.score(x_train,y_train)"
   ]
  },
  {
   "cell_type": "code",
   "execution_count": 314,
   "metadata": {},
   "outputs": [
    {
     "data": {
      "text/plain": [
       "0.8427103739021591"
      ]
     },
     "execution_count": 314,
     "metadata": {},
     "output_type": "execute_result"
    }
   ],
   "source": [
    "gb_model.score(x_test,y_test)"
   ]
  },
  {
   "cell_type": "code",
   "execution_count": 318,
   "metadata": {},
   "outputs": [],
   "source": [
    "y_test_pred = gb_model.predict(x_test)"
   ]
  },
  {
   "cell_type": "code",
   "execution_count": 319,
   "metadata": {},
   "outputs": [
    {
     "name": "stdout",
     "output_type": "stream",
     "text": [
      "Mean absolute error = 378.49\n",
      "Mean squared error = 333940.04\n",
      "Median absolute error = 218.07\n",
      "Explain variance score = 0.84\n",
      "R2 score = 0.84\n"
     ]
    }
   ],
   "source": [
    "import sklearn.metrics as sm\n",
    "print(\"Mean absolute error =\", round(sm.mean_absolute_error(y_test, y_test_pred), 2)) \n",
    "print(\"Mean squared error =\", round(sm.mean_squared_error(y_test, y_test_pred), 2)) \n",
    "print(\"Median absolute error =\", round(sm.median_absolute_error(y_test, y_test_pred), 2)) \n",
    "print(\"Explain variance score =\", round(sm.explained_variance_score(y_test, y_test_pred), 2)) \n",
    "print(\"R2 score =\", round(sm.r2_score(y_test, y_test_pred), 2))"
   ]
  },
  {
   "cell_type": "markdown",
   "metadata": {},
   "source": [
    "## Random Forest"
   ]
  },
  {
   "cell_type": "code",
   "execution_count": null,
   "metadata": {},
   "outputs": [],
   "source": []
  },
  {
   "cell_type": "code",
   "execution_count": 52,
   "metadata": {},
   "outputs": [],
   "source": [
    " rf_parameters={'n_estimators': [100,200,300,400,500,600],\n",
    "                       'max_features': ['auto', 'sqrt'],\n",
    "                       'max_depth': [int(x) for x in np.linspace(10, 110, num = 11)],\n",
    "                       'min_samples_split': [2, 5, 10],\n",
    "                       'min_samples_leaf': [1, 2, 4],\n",
    "                       'bootstrap': [True, False]\n",
    "                      }"
   ]
  },
  {
   "cell_type": "code",
   "execution_count": 53,
   "metadata": {},
   "outputs": [],
   "source": [
    "rf_reg = RandomForestRegressor()\n",
    "random_rf = RandomizedSearchCV(estimator=rf_reg,\n",
    "                                        param_distributions=rf_parameters,\n",
    "                                        cv=5,\n",
    "                                        scoring='neg_root_mean_squared_error',\n",
    "                                        n_iter=10,\n",
    "                                        n_jobs=-1,\n",
    "                                        verbose=2,\n",
    "                                        random_state=101\n",
    "                                        )"
   ]
  },
  {
   "cell_type": "code",
   "execution_count": 54,
   "metadata": {},
   "outputs": [
    {
     "name": "stdout",
     "output_type": "stream",
     "text": [
      "Fitting 5 folds for each of 10 candidates, totalling 50 fits\n"
     ]
    },
    {
     "data": {
      "text/plain": [
       "RandomizedSearchCV(cv=5, estimator=RandomForestRegressor(), n_jobs=-1,\n",
       "                   param_distributions={'bootstrap': [True, False],\n",
       "                                        'max_depth': [10, 20, 30, 40, 50, 60,\n",
       "                                                      70, 80, 90, 100, 110],\n",
       "                                        'max_features': ['auto', 'sqrt'],\n",
       "                                        'min_samples_leaf': [1, 2, 4],\n",
       "                                        'min_samples_split': [2, 5, 10],\n",
       "                                        'n_estimators': [100, 200, 300, 400,\n",
       "                                                         500, 600]},\n",
       "                   random_state=101, scoring='neg_root_mean_squared_error',\n",
       "                   verbose=2)"
      ]
     },
     "execution_count": 54,
     "metadata": {},
     "output_type": "execute_result"
    }
   ],
   "source": [
    "random_rf.fit(x_train,y_train)"
   ]
  },
  {
   "cell_type": "code",
   "execution_count": 55,
   "metadata": {},
   "outputs": [],
   "source": [
    "best_param = random_rf.best_params_"
   ]
  },
  {
   "cell_type": "code",
   "execution_count": 56,
   "metadata": {},
   "outputs": [],
   "source": [
    "rf_model = RandomForestRegressor(n_estimators = best_param['n_estimators'],\n",
    "                                            min_samples_split = best_param['min_samples_split'],\n",
    "                                            min_samples_leaf = best_param['min_samples_leaf'],\n",
    "                                            max_features = best_param['max_features'],\n",
    "                                            max_depth = best_param['max_depth'],\n",
    "                                            bootstrap = best_param['bootstrap'])"
   ]
  },
  {
   "cell_type": "code",
   "execution_count": 57,
   "metadata": {},
   "outputs": [
    {
     "data": {
      "text/plain": [
       "RandomForestRegressor(max_depth=10, max_features='sqrt', min_samples_leaf=2,\n",
       "                      n_estimators=400)"
      ]
     },
     "execution_count": 57,
     "metadata": {},
     "output_type": "execute_result"
    }
   ],
   "source": [
    "rf_model.fit(x_train,y_train)"
   ]
  },
  {
   "cell_type": "code",
   "execution_count": 58,
   "metadata": {},
   "outputs": [
    {
     "data": {
      "text/plain": [
       "0.682132839229031"
      ]
     },
     "execution_count": 58,
     "metadata": {},
     "output_type": "execute_result"
    }
   ],
   "source": [
    "rf_model.score(x_train,y_train)"
   ]
  },
  {
   "cell_type": "code",
   "execution_count": 59,
   "metadata": {},
   "outputs": [
    {
     "data": {
      "text/plain": [
       "0.6232745632936549"
      ]
     },
     "execution_count": 59,
     "metadata": {},
     "output_type": "execute_result"
    }
   ],
   "source": [
    "rf_model.score(x_test,y_test)"
   ]
  },
  {
   "cell_type": "code",
   "execution_count": null,
   "metadata": {},
   "outputs": [],
   "source": [
    "y_test_pred = rf_model.predict(x_test)"
   ]
  },
  {
   "cell_type": "code",
   "execution_count": null,
   "metadata": {},
   "outputs": [],
   "source": [
    "import sklearn.metrics as sm\n",
    "print(\"Mean absolute error =\", round(sm.mean_absolute_error(y_test, y_test_pred), 2)) \n",
    "print(\"Mean squared error =\", round(sm.mean_squared_error(y_test, y_test_pred), 2)) \n",
    "print(\"Median absolute error =\", round(sm.median_absolute_error(y_test, y_test_pred), 2)) \n",
    "print(\"Explain variance score =\", round(sm.explained_variance_score(y_test, y_test_pred), 2)) \n",
    "print(\"R2 score =\", round(sm.r2_score(y_test, y_test_pred), 2))"
   ]
  },
  {
   "cell_type": "code",
   "execution_count": 320,
   "metadata": {},
   "outputs": [],
   "source": [
    "pickle.dump(xgb_model_1, open(\"BigMart_Prediction.pkl\", \"wb\"))"
   ]
  },
  {
   "cell_type": "code",
   "execution_count": null,
   "metadata": {},
   "outputs": [],
   "source": [
    "pickle.dump(scaler, open(\"Standardscaler.pkl\", \"wb\"))"
   ]
  }
 ],
 "metadata": {
  "kernelspec": {
   "display_name": "Python 3",
   "language": "python",
   "name": "python3"
  },
  "language_info": {
   "codemirror_mode": {
    "name": "ipython",
    "version": 3
   },
   "file_extension": ".py",
   "mimetype": "text/x-python",
   "name": "python",
   "nbconvert_exporter": "python",
   "pygments_lexer": "ipython3",
   "version": "3.8.8"
  }
 },
 "nbformat": 4,
 "nbformat_minor": 4
}
